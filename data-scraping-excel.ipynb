{
 "cells": [
  {
   "cell_type": "markdown",
   "metadata": {},
   "source": [
    "## 1. Overview\n",
    "\n",
    "In a perfect world, all data is presented in a clear, tabular format - easy for consumption and ready for analytics! In reality, data often lives in disparate sources, which requires us to collect and gather it first.\n",
    "\n",
    "In this tutorial, I'll explore a scenario with Excel files: a company has customer information stored in a number of Excel forms. These forms are saved within a specific directory. We will be tasked with creating a final dataframe for all customer information using the values from these Excel files."
   ]
  },
  {
   "cell_type": "markdown",
   "metadata": {},
   "source": [
    "### 1.1. Import Packages"
   ]
  },
  {
   "cell_type": "code",
   "execution_count": 134,
   "metadata": {},
   "outputs": [],
   "source": [
    "import os\n",
    "import pandas as pd\n",
    "import xlrd\n",
    "\n",
    "#Set Directory with files\n",
    "os.chdir('./Files')"
   ]
  },
  {
   "cell_type": "markdown",
   "metadata": {},
   "source": [
    "### 1.2. Use xlrd to open and read Excel workbooks\n",
    "**xlrd** is a package we can use to open and read Excel workbooks. The **open_workbook** function requires the file path of the workbook, let's use Form - Hopper, Grace to start. Opening the workbook will require an **xlrd.book.Book object**"
   ]
  },
  {
   "cell_type": "code",
   "execution_count": 122,
   "metadata": {},
   "outputs": [
    {
     "name": "stdout",
     "output_type": "stream",
     "text": [
      "<xlrd.book.Book object at 0x7ff08ab99e50>\n"
     ]
    }
   ],
   "source": [
    "wb = xlrd.open_workbook('Form - Hopper, Grace.xlsx')\n",
    "print(wb)"
   ]
  },
  {
   "cell_type": "markdown",
   "metadata": {},
   "source": [
    "### 1.3. Get worksheeets within Excel workbook\n",
    "Excel workbooks can contain multiple worksheets. Before we can grab any data, we need to specify which worksheet we want to use within the workbook.\n",
    "\n",
    "In xlrd, there are two ways we can call on a specific workbook:\n",
    "- **By Index** we can use the index of the work sheet within the workbook with **sheet_by_index** function (0 indexed)\n",
    "- **By Name** if we know the name of the work sheet, we can use the **sheey_by_name** function"
   ]
  },
  {
   "cell_type": "code",
   "execution_count": 123,
   "metadata": {},
   "outputs": [
    {
     "data": {
      "text/plain": [
       "<xlrd.sheet.Sheet at 0x7ff08ab99af0>"
      ]
     },
     "execution_count": 123,
     "metadata": {},
     "output_type": "execute_result"
    }
   ],
   "source": [
    "#To get sheet by index (starts with 0)\n",
    "ws = wb.sheet_by_index(0)\n",
    "#To get sheet by name \n",
    "ws = wb.sheet_by_name('Sheet1')"
   ]
  },
  {
   "cell_type": "markdown",
   "metadata": {},
   "source": [
    "### 1.4. Reading Data in an Excel worksheet\n",
    "\n",
    "To read data in a worksheet, we can use either the **row_values** function to return values for a specific row or we can use **column_values** function to return valuese for a specific column. Each requires a numeric index argument."
   ]
  },
  {
   "cell_type": "code",
   "execution_count": 127,
   "metadata": {},
   "outputs": [
    {
     "data": {
      "text/plain": [
       "['First Name', 'Grace']"
      ]
     },
     "execution_count": 127,
     "metadata": {},
     "output_type": "execute_result"
    }
   ],
   "source": [
    "#get list of values in row\n",
    "ws.row_values(2)"
   ]
  },
  {
   "cell_type": "code",
   "execution_count": 124,
   "metadata": {},
   "outputs": [
    {
     "data": {
      "text/plain": [
       "['Information Fill Out Form',\n",
       " '',\n",
       " 'First Name',\n",
       " 'Last Name',\n",
       " 'Sex',\n",
       " 'DOB',\n",
       " 'City',\n",
       " 'State']"
      ]
     },
     "execution_count": 124,
     "metadata": {},
     "output_type": "execute_result"
    }
   ],
   "source": [
    "#get list of values in column\n",
    "ws.col_values(0)"
   ]
  },
  {
   "cell_type": "markdown",
   "metadata": {},
   "source": [
    "## 2. Use Case\n",
    "Company ABC has a directory with various Excel files containing customer information (e.g. First Name, Last Name, City, State). The information is stored such that Column A contains all questions (attributes, e.g. First Name) and Column B contains all output values (e.g. Grace). \n",
    "\n",
    "Your manager wants to cataolgue and analyze this information for all customers. \n",
    "\n",
    "This means we need to create a scraping job to iterate through all Excel files in the directory, open the workbook, and scrape the pre-defined attributes. The end result should yield a dataframe where each row represents a customer, and each column represents an attribute or dimension describing that customer."
   ]
  },
  {
   "cell_type": "markdown",
   "metadata": {},
   "source": [
    "### 2.1 Grabbing Data from Columnar Key Values in a Worksheet\n",
    "\n",
    "Let's start small. Before we get into iterating through files in a directory, let's try getting the value for one attribute in a file. \n",
    "\n",
    "We will use the example workbook for Grace Hopper in section 1.3. Let's write a code to return the First Name output."
   ]
  },
  {
   "cell_type": "code",
   "execution_count": 32,
   "metadata": {},
   "outputs": [
    {
     "data": {
      "text/plain": [
       "'Grace'"
      ]
     },
     "execution_count": 32,
     "metadata": {},
     "output_type": "execute_result"
    }
   ],
   "source": [
    "#get the index of the attribute specified, e.g. First Name\n",
    "attributes = ws.col_values(0)\n",
    "attribute_index = attributes.index('First Name')\n",
    "\n",
    "#get the neighboring value output of the attribute, e.g. Grace Hopper\n",
    "values = ws.col_values(1)\n",
    "values[attribute_index]"
   ]
  },
  {
   "cell_type": "markdown",
   "metadata": {},
   "source": [
    "### 2.2. Let's Create a Function!\n",
    "\n",
    "Doing this over and over for every attribute will get tedious. To reduce code, we can condense this by creating our own function.\n",
    "\n",
    "For our purposes, we will assume that the value for each attribute is stored in the neighboring column.\n",
    "\n",
    "In our function, let's also account for the possible scenario that an Excel worksheet might not have a listed attribute. In this instances, we will default the value output to **None**."
   ]
  },
  {
   "cell_type": "code",
   "execution_count": 1,
   "metadata": {},
   "outputs": [
    {
     "ename": "NameError",
     "evalue": "name 'ws' is not defined",
     "output_type": "error",
     "traceback": [
      "\u001b[0;31m---------------------------------------------------------------------------\u001b[0m",
      "\u001b[0;31mNameError\u001b[0m                                 Traceback (most recent call last)",
      "\u001b[0;32m<ipython-input-1-fd1e4dd74e80>\u001b[0m in \u001b[0;36m<module>\u001b[0;34m\u001b[0m\n\u001b[1;32m     10\u001b[0m         \u001b[0;32mreturn\u001b[0m \u001b[0;32mNone\u001b[0m\u001b[0;34m\u001b[0m\u001b[0;34m\u001b[0m\u001b[0m\n\u001b[1;32m     11\u001b[0m \u001b[0;34m\u001b[0m\u001b[0m\n\u001b[0;32m---> 12\u001b[0;31m \u001b[0mget_value\u001b[0m\u001b[0;34m(\u001b[0m\u001b[0mws\u001b[0m\u001b[0;34m,\u001b[0m\u001b[0;36m0\u001b[0m\u001b[0;34m,\u001b[0m\u001b[0;34m'First Name'\u001b[0m\u001b[0;34m)\u001b[0m\u001b[0;34m\u001b[0m\u001b[0;34m\u001b[0m\u001b[0m\n\u001b[0m",
      "\u001b[0;31mNameError\u001b[0m: name 'ws' is not defined"
     ]
    }
   ],
   "source": [
    "def get_value(worksheet, attribute_column, attribute_name):\n",
    "    attributes = worksheet.col_values(attribute_column)\n",
    "    if attribute_name in attributes:\n",
    "        attribute_index = attributes.index(attribute_name)\n",
    "        #assume value is in the adjacent column where attribute is stored\n",
    "        values = worksheet.col_values(attribute_column+1)\n",
    "        value = values[attribute_index]\n",
    "        return value\n",
    "    else:\n",
    "        return None\n",
    "        \n",
    "get_value(ws,0,'First Name')"
   ]
  },
  {
   "cell_type": "markdown",
   "metadata": {},
   "source": [
    "### 2.3. Looping Through Files\n",
    "\n",
    "Let's put it all together with a for loop. Up to this point we've reviewed how to pull attribute information for one file. To create our database of customer information, we will need to iterate or loop through all files in our directory. We can use the **os.walk** function to loop through each file."
   ]
  },
  {
   "cell_type": "code",
   "execution_count": 130,
   "metadata": {},
   "outputs": [
    {
     "name": "stdout",
     "output_type": "stream",
     "text": [
      "Form - Smith, John.xlsx\n",
      "Form - Hopper, Grace.xlsx\n",
      "Form - Wayne, Bruce.xlsx\n",
      "Form - Doe, Jane.xlsx\n"
     ]
    }
   ],
   "source": [
    "for root, dirs, files, in os.walk('.'):\n",
    "    for file in files:\n",
    "        print(file)"
   ]
  },
  {
   "cell_type": "markdown",
   "metadata": {},
   "source": [
    "### 2.4. Putting it All Together - Loop & Scrape\n",
    "\n",
    "For each file, we will need to scrape the attribute along with the corresponding value, e.g. First Name: Grace, Last Name: Hopper. An easy way to store this data is a dictionary, where the values are stored as a list.\n",
    "\n",
    "We can initialize an empty dictionary at the beginning of the loop, all keys are equal to attribute names. For indexing purposes, it might be useful to include the **File Name**. We will append this to our empty dictionary.\n",
    "\n",
    "Once we loop through the files, we will loop once more through the list of attributes to append each value (use our **get_value** function from 2.2) to the appropriate key.\n",
    "\n",
    "The end will result in a dictionary of our attributes and values."
   ]
  },
  {
   "cell_type": "code",
   "execution_count": 135,
   "metadata": {},
   "outputs": [
    {
     "data": {
      "text/plain": [
       "{'First Name': ['John', 'Grace', 'Bruce', 'Jane'],\n",
       " 'Last Name': ['Smith', 'Hopper', 'Wayne', 'Doe'],\n",
       " 'Sex': ['Male', 'Female', 'Male', 'Female'],\n",
       " 'City': ['San Francisco', 'New York', 'Gotham City', 'Orlando'],\n",
       " 'State': ['CA', 'NY', 'NJ', 'FL'],\n",
       " 'File': ['Form - Smith, John.xlsx',\n",
       "  'Form - Hopper, Grace.xlsx',\n",
       "  'Form - Wayne, Bruce.xlsx',\n",
       "  'Form - Doe, Jane.xlsx']}"
      ]
     },
     "execution_count": 135,
     "metadata": {},
     "output_type": "execute_result"
    }
   ],
   "source": [
    "for root, dirs, files in os.walk('.'):\n",
    "    attributes = ['First Name', 'Last Name', 'Sex','City','State']\n",
    "    #initialized dictionary, create empty list for attributes with dict comprehension\n",
    "    data = {attribute: [] for attribute in attributes}\n",
    "    #append a key:value for File, will use this as unique identifier/index\n",
    "    data.update({\"File\": []})\n",
    "    for file in files:\n",
    "        wb = xlrd.open_workbook(file)\n",
    "        ws = wb.sheet_by_index(0)\n",
    "        data['File'].append(file)\n",
    "        for attribute in attributes:\n",
    "            data[attribute].append(get_value(ws,0,attribute))\n",
    "\n",
    "data"
   ]
  },
  {
   "cell_type": "markdown",
   "metadata": {},
   "source": [
    "### 2.5. Converting a Dictionary output to a Dataframe\n",
    "\n",
    "Last but not least, we'll take the resulting dictionary and convert it to a dataframe. To do this we will use **pandas**."
   ]
  },
  {
   "cell_type": "code",
   "execution_count": 136,
   "metadata": {},
   "outputs": [
    {
     "data": {
      "text/html": [
       "<div>\n",
       "<style scoped>\n",
       "    .dataframe tbody tr th:only-of-type {\n",
       "        vertical-align: middle;\n",
       "    }\n",
       "\n",
       "    .dataframe tbody tr th {\n",
       "        vertical-align: top;\n",
       "    }\n",
       "\n",
       "    .dataframe thead th {\n",
       "        text-align: right;\n",
       "    }\n",
       "</style>\n",
       "<table border=\"1\" class=\"dataframe\">\n",
       "  <thead>\n",
       "    <tr style=\"text-align: right;\">\n",
       "      <th></th>\n",
       "      <th>First Name</th>\n",
       "      <th>Last Name</th>\n",
       "      <th>Sex</th>\n",
       "      <th>City</th>\n",
       "      <th>State</th>\n",
       "      <th>File</th>\n",
       "    </tr>\n",
       "  </thead>\n",
       "  <tbody>\n",
       "    <tr>\n",
       "      <th>0</th>\n",
       "      <td>John</td>\n",
       "      <td>Smith</td>\n",
       "      <td>Male</td>\n",
       "      <td>San Francisco</td>\n",
       "      <td>CA</td>\n",
       "      <td>Form - Smith, John.xlsx</td>\n",
       "    </tr>\n",
       "    <tr>\n",
       "      <th>1</th>\n",
       "      <td>Grace</td>\n",
       "      <td>Hopper</td>\n",
       "      <td>Female</td>\n",
       "      <td>New York</td>\n",
       "      <td>NY</td>\n",
       "      <td>Form - Hopper, Grace.xlsx</td>\n",
       "    </tr>\n",
       "    <tr>\n",
       "      <th>2</th>\n",
       "      <td>Bruce</td>\n",
       "      <td>Wayne</td>\n",
       "      <td>Male</td>\n",
       "      <td>Gotham City</td>\n",
       "      <td>NJ</td>\n",
       "      <td>Form - Wayne, Bruce.xlsx</td>\n",
       "    </tr>\n",
       "    <tr>\n",
       "      <th>3</th>\n",
       "      <td>Jane</td>\n",
       "      <td>Doe</td>\n",
       "      <td>Female</td>\n",
       "      <td>Orlando</td>\n",
       "      <td>FL</td>\n",
       "      <td>Form - Doe, Jane.xlsx</td>\n",
       "    </tr>\n",
       "  </tbody>\n",
       "</table>\n",
       "</div>"
      ],
      "text/plain": [
       "  First Name Last Name     Sex           City State                       File\n",
       "0       John     Smith    Male  San Francisco    CA    Form - Smith, John.xlsx\n",
       "1      Grace    Hopper  Female       New York    NY  Form - Hopper, Grace.xlsx\n",
       "2      Bruce     Wayne    Male    Gotham City    NJ   Form - Wayne, Bruce.xlsx\n",
       "3       Jane       Doe  Female        Orlando    FL      Form - Doe, Jane.xlsx"
      ]
     },
     "execution_count": 136,
     "metadata": {},
     "output_type": "execute_result"
    }
   ],
   "source": [
    "df = pd.DataFrame.from_dict(data)\n",
    "df.to_excel(\"Scraped_Data.xlsx\",sheet_name=\"Sheet1\")"
   ]
  }
 ],
 "metadata": {
  "kernelspec": {
   "display_name": "Python 3",
   "language": "python",
   "name": "python3"
  },
  "language_info": {
   "codemirror_mode": {
    "name": "ipython",
    "version": 3
   },
   "file_extension": ".py",
   "mimetype": "text/x-python",
   "name": "python",
   "nbconvert_exporter": "python",
   "pygments_lexer": "ipython3",
   "version": "3.8.3"
  }
 },
 "nbformat": 4,
 "nbformat_minor": 4
}
